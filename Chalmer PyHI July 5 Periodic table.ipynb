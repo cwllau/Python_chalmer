{
 "cells": [
  {
   "cell_type": "code",
   "execution_count": 10,
   "metadata": {},
   "outputs": [
    {
     "name": "stdout",
     "output_type": "stream",
     "text": [
      "All tests ran successfully\n"
     ]
    }
   ],
   "source": [
    "#Help cheatsheet\n",
    "#https://www.debuggex.com/\n",
    "\n",
    "def reddit(element, symbol):\n",
    "    #\n",
    "    #import reg ex\n",
    "    import re\n",
    "    \n",
    "    \n",
    "    #e.*e\n",
    "    # normalize or standardize your input\n",
    "    element = element.lower()\n",
    "    symbol = symbol.lower()\n",
    "    \n",
    "    # check for length\n",
    "    if len(symbol) != 2:\n",
    "        return False\n",
    "    \n",
    "\n",
    "    #c1 = symbol[0]\n",
    "    #c2 = symbol[1]\n",
    "    #lazy mode these assignments\n",
    "    c1,c2 = symbol\n",
    "    \n",
    "    #it's common in python to put an r in front of strings\n",
    "    pattern = re.compile(r'{}.*{}'.format(c1,c2))\n",
    "    if pattern.search(element) != None:\n",
    "        return True\n",
    "    else:\n",
    "        return False\n",
    "    \n",
    "#     index1 = element.find(c1)\n",
    "#     index2 = element.find(c2, index1 + 1)\n",
    "    \n",
    "#     if index1 == -1 or index2 == -1:\n",
    "#         return False\n",
    "#     print(index1, index2)\n",
    "    \n",
    "#     return True\n",
    "    # check for doubles\n",
    "    \n",
    "#     char = 0\n",
    "#     for char in symbol:\n",
    "#         if symbol[char] != symbol[0] \n",
    "    \n",
    "    # sequence check\n",
    "    \n",
    "    # confirm that the letters are actually in the word\n",
    "    \n",
    "    #\n",
    "    \n",
    "if __name__ =='__main__':\n",
    "    assert reddit('Spenglerium', 'Ee') == True\n",
    "    assert reddit('Zeddemorium', 'Zr') == True\n",
    "    assert reddit('Venkmine', 'Kn') == True\n",
    "    assert reddit('Stantzon', 'Zt') == False\n",
    "    assert reddit('Melintzum', 'Nn') == False\n",
    "    assert reddit('Tullium', 'Ty') == False\n",
    "    print('All tests ran successfully')"
   ]
  },
  {
   "cell_type": "code",
   "execution_count": 30,
   "metadata": {},
   "outputs": [
    {
     "name": "stdout",
     "output_type": "stream",
     "text": [
      "All tests ran successfully\n"
     ]
    }
   ],
   "source": [
    "#Chalmer and friends way\n",
    "def reddit(element, symbol):\n",
    "    import re\n",
    "    \n",
    "    #element = 'a'\n",
    "    element = element.lower()\n",
    "    #symbol = symbol.lower()\n",
    "\n",
    "    try:\n",
    "        c1, c2 = symbol.lower()\n",
    "        return c2 in element[element.index(c1) + 1:]\n",
    "    except ValueError:\n",
    "        return False\n",
    "\n",
    "\n",
    "if __name__ =='__main__':\n",
    "    assert reddit('Spenglerium', 'Ee') == True\n",
    "    assert reddit('Zeddemorium', 'Zr') == True\n",
    "    assert reddit('Venkmine', 'Kn') == True\n",
    "    assert reddit('Stantzon', 'Zt') == False\n",
    "    assert reddit('Melintzum', 'Nn') == False\n",
    "    assert reddit('Tullium', 'Ty') == False\n",
    "    print('All tests ran successfully')"
   ]
  }
 ],
 "metadata": {
  "kernelspec": {
   "display_name": "Python 3",
   "language": "python",
   "name": "python3"
  }
 },
 "nbformat": 4,
 "nbformat_minor": 2
}
